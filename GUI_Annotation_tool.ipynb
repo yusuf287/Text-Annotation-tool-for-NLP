{
 "cells": [
  {
   "cell_type": "code",
   "execution_count": 1,
   "metadata": {
    "collapsed": true
   },
   "outputs": [],
   "source": [
    "import os \n",
    "\n",
    "#Import Tkinter. It is used to build graphical user interface using python module.\n",
    "from tkinter import * "
   ]
  },
  {
   "cell_type": "code",
   "execution_count": 2,
   "metadata": {
    "collapsed": true
   },
   "outputs": [],
   "source": [
    "# Read the resume sample from internal database\n",
    "resume_path = r\"C:\\Users\\yusuf\\YusufSwoopTalent\\TrainingDataset\\named_entity\\txt_resumes\\15600_RESUME_Wells_resume_plain.txt\"\n",
    "training_data_dir_path = r\"C:\\Users\\yusuf\\YusufSwoopTalent\\Keras practice\\Yusuf Practice\\Training_data\"\n",
    "file_name = '15600_RESUME_Wells_resume_plain.txt'\n",
    "resume_raw_content = open(resume_path,\"r\", encoding='utf8').read()"
   ]
  },
  {
   "cell_type": "code",
   "execution_count": 3,
   "metadata": {
    "collapsed": true
   },
   "outputs": [],
   "source": [
    "# Define the two level labels as line_type and line_labels\n",
    "line_types = {0:'content', 1:'title', 2:'header'}\n",
    "line_labels = {0:'experience', 1:'skills', 2: 'education', 3:'personal', 4:'miscellaneous'}"
   ]
  },
  {
   "cell_type": "code",
   "execution_count": null,
   "metadata": {
    "collapsed": true
   },
   "outputs": [],
   "source": [
    "# Save the resume as list of sentences.\n",
    "file_content = []\n",
    "for line in resume_raw_content.split('\\n'):\n",
    "        line2 = line.strip()\n",
    "        if line2 != '':\n",
    "            file_content.append(line2)"
   ]
  },
  {
   "cell_type": "code",
   "execution_count": 3,
   "metadata": {
    "collapsed": true
   },
   "outputs": [],
   "source": [
    "#Create default labels for all the sentences.\n",
    "def guess_line_type(line):\n",
    "    return -1 \n",
    "\n",
    "def guess_line_label(line):\n",
    "    return -1\n",
    "\n",
    "table_content = [[line, guess_line_type(line), guess_line_label(line)] for line in file_content]"
   ]
  },
  {
   "cell_type": "code",
   "execution_count": 4,
   "metadata": {
    "collapsed": true
   },
   "outputs": [],
   "source": [
    "# Class to create scrollbar for the gui\n",
    "class ScrollableFrame(Frame):\n",
    "    def __init__(self, parent, *args, **kw):\n",
    "        '''\n",
    "        Constructor\n",
    "        '''\n",
    "        Frame.__init__(self, parent, *args, **kw)\n",
    "        # create a vertical scrollbar\n",
    "        vscrollbar = Scrollbar(self, orient = VERTICAL)\n",
    "        vscrollbar.pack(fill = Y, side = RIGHT, expand = TRUE)\n",
    "\n",
    "        # create a horizontal scrollbar\n",
    "        hscrollbar = Scrollbar(self, orient = HORIZONTAL)\n",
    "        hscrollbar.pack(fill = X, side = BOTTOM, expand = TRUE)\n",
    "\n",
    "        #Create a canvas object and associate the scrollbars with it\n",
    "        self.canvas = Canvas(self, bd = 0, width=900, height=800, highlightthickness = 0, yscrollcommand = vscrollbar.set, xscrollcommand = hscrollbar.set)\n",
    "        self.canvas.pack(side = LEFT, fill = BOTH, expand = TRUE)\n",
    "\n",
    "        #Associate scrollbars with canvas view\n",
    "        vscrollbar.config(command = self.canvas.yview)\n",
    "        hscrollbar.config(command = self.canvas.xview)\n",
    "\n",
    "\n",
    "        # set the view to 0,0 at initialization\n",
    "        self.canvas.xview_moveto(0)\n",
    "        self.canvas.yview_moveto(0)\n",
    "\n",
    "        # create an interior frame to be created inside the canvas\n",
    "        self.interior = interior = Frame(self.canvas)\n",
    "        interior_id = self.canvas.create_window(0, 0, window=interior,\n",
    "                anchor=NW)\n",
    "\n",
    "        # track changes to the canvas and frame width and sync them,\n",
    "        # also updating the scrollbar\n",
    "\n",
    "        def _configure_interior(event):\n",
    "            # update the scrollbars to match the size of the inner frame\n",
    "            size = (interior.winfo_reqwidth(), interior.winfo_reqheight())\n",
    "            self.canvas.config(scrollregion='0 0 %s %s' % size)\n",
    "            if interior.winfo_reqwidth() != self.canvas.winfo_width():\n",
    "                # update the canvas's width to fit the inner frame\n",
    "                self.canvas.config(width = interior.winfo_reqwidth())\n",
    "        interior.bind('<Configure>', _configure_interior)"
   ]
  },
  {
   "cell_type": "code",
   "execution_count": null,
   "metadata": {
    "collapsed": true
   },
   "outputs": [],
   "source": []
  },
  {
   "cell_type": "code",
   "execution_count": 5,
   "metadata": {
    "collapsed": true
   },
   "outputs": [],
   "source": [
    "class AnnotatorGui(Frame):\n",
    "    def __init__(self, master, table_content):\n",
    "        Frame.__init__(self, master=master)\n",
    "#========================\n",
    "\n",
    "        self.frame = ScrollableFrame(master)\n",
    "        self.frame.pack(expand = TRUE)\n",
    "#         self.label = Label(text=\"Shrink the window to activate the scrollbar.\")\n",
    "#         self.label.pack(expand = TRUE)\n",
    "#=====================\n",
    "        \n",
    "        self.master.title(\"Annotate Resume Lines\")\n",
    "\n",
    "        self.master.rowconfigure(0, weight=1)\n",
    "        self.master.columnconfigure(0, weight=1)\n",
    "        self.frame.grid(sticky=W + E + N + S)\n",
    "        self.frame.pack(expand = TRUE)\n",
    "\n",
    "        self.line_index_label_list = []\n",
    "        self.line_content_text_list = []\n",
    "        self.line_type_button_list = []\n",
    "        self.line_label_button_list = []\n",
    "\n",
    "        for line_index, line in enumerate(table_content):\n",
    "            self.build_line(table_content, line_index, line)\n",
    "\n",
    "        self.rowconfigure(1, weight=1)\n",
    "        self.columnconfigure(1, weight=1)\n",
    "\n",
    "    def build_line(self, table_content, line_index, line):\n",
    "        line_content = line[0]\n",
    "\n",
    "        line_index_label = Label(self.frame.interior, width=5, height=1, text=str(line_index), bg='deep sky blue',fg='white')\n",
    "        line_index_label.grid(row=line_index, column=0, sticky=W + E + N + S)\n",
    "        line_content_text = Text(self.frame.interior, width=100, height=1.5, bg='sky blue')\n",
    "        line_content_text.insert(INSERT, line_content)\n",
    "        line_content_text.grid(row=line_index, column=1, sticky=W + E + N + S)\n",
    "        \n",
    "        def line_type_button_click(_line_index):\n",
    "            line_type = table_content[_line_index][1]\n",
    "            line_type = (line_type + 1) % len(line_types)\n",
    "            table_content[_line_index][1] = line_type\n",
    "            line_type_button[\"text\"] = \"Type: \" + line_types[line_type]\n",
    "            line_type_button.configure(bg=\"light blue\")\n",
    "\n",
    "        def line_label_button_click(_line_index):\n",
    "            line_label = table_content[_line_index][2]\n",
    "            line_label = (line_label + 1) % len(line_labels)\n",
    "            table_content[_line_index][2] = line_label\n",
    "            line_label_button[\"text\"] = \"Type: \" + line_labels[line_label]\n",
    "            line_label_button.configure(bg=\"light blue\")\n",
    "\n",
    "        line_type_button = Button(self.frame.interior, text=\"Type: Unknown\", width=25,\n",
    "                                  command=lambda: line_type_button_click(line_index))\n",
    "        line_type_button.grid(row=line_index, column=2, sticky=W + E + N + S)\n",
    "        line_label_button = Button(self.frame.interior, text='Label: Unknown', width=25,\n",
    "                                   command=lambda: line_label_button_click(line_index))\n",
    "        line_label_button.grid(row=line_index, column=3, sticky=W + E + N + S)\n",
    "\n",
    "        if line[1] != -1:\n",
    "            line_type_button[\"text\"] = \"Type: \" + line_types[line[1]]\n",
    "        if line[2] != -1:\n",
    "            line_label_button[\"text\"] = \"Type: \" + line_labels[line[2]]"
   ]
  },
  {
   "cell_type": "code",
   "execution_count": null,
   "metadata": {
    "collapsed": true
   },
   "outputs": [],
   "source": []
  },
  {
   "cell_type": "code",
   "execution_count": 6,
   "metadata": {
    "collapsed": true
   },
   "outputs": [],
   "source": [
    "#Main function to call to open tkinter GUI.\n",
    "def gui_annotate(training_data_dir_path, index, file_path, file_content):\n",
    "\n",
    "    root = Tk()\n",
    "\n",
    "    table_content = [[line, guess_line_type(line), guess_line_label(line)] for line in file_content]\n",
    "    gui = AnnotatorGui(root, table_content)\n",
    "\n",
    "    def callback():\n",
    "        root.destroy()\n",
    "        output_file_path = os.path.join(training_data_dir_path, str(index) + '.txt')\n",
    "        if os.path.exists(output_file_path):\n",
    "            return\n",
    "        with open(output_file_path, 'wt', encoding='utf8') as f:\n",
    "            for line in table_content:\n",
    "                line_content = line[0]\n",
    "                data_type = line[1]\n",
    "                label = line[2]\n",
    "\n",
    "                if data_type == -1 or label == -1:\n",
    "                    continue\n",
    "\n",
    "                print('write line: ', line)\n",
    "                f.write(line_types[data_type] + '\\t' + line_labels[label] + '\\t' + line_content)\n",
    "                f.write('\\n')\n",
    "\n",
    "    root.protocol(\"WM_DELETE_WINDOW\", callback)\n",
    "    gui.mainloop()"
   ]
  },
  {
   "cell_type": "code",
   "execution_count": null,
   "metadata": {
    "collapsed": true
   },
   "outputs": [],
   "source": []
  },
  {
   "cell_type": "code",
   "execution_count": 8,
   "metadata": {},
   "outputs": [
    {
     "name": "stdout",
     "output_type": "stream",
     "text": [
      "write line:  ['DAVID WELLS', 0, 3]\n",
      "write line:  ['4779 Pewter Rd.', 0, 3]\n",
      "write line:  ['Dwells52@yahoo.com', 0, 3]\n",
      "write line:  ['Cincinnati, OH, 45244', 0, 3]\n",
      "write line:  ['SENIOR COMMUNICATIONS DIRECTOR', 1, 0]\n",
      "write line:  ['Strong combination of writing, research, analysis and crisis management skills', 0, 0]\n",
      "write line:  ['Experience directing news coverage and editorial campaigns for a major metropolitan newspaper has given me the ability to quickly analyze and respond to any situation. I am able to craft and organize a public response and to develop long-term strategies for getting a message to targeted internal or external audiences. Core competencies include:', 0, 0]\n",
      "write line:  ['Writing and Editing', 0, 0]\n",
      "write line:  ['Cross-Functional Teams', 0, 0]\n",
      "write line:  ['CONTRIBUTIONS & ACHIEVEMENTS', 2, 4]\n",
      "write line:  ['Successfully directed news coverage for a major metropolitan newspaper, managing staffs from small teams to a news force of 70 reporters and a dozen editors.', 0, 0]\n",
      "write line:  ['PROFESSIONAL EXPERIENCE', 2, 0]\n",
      "write line:  ['The Cincinnati Enquirer: 1974-2009. As a reporter and editor I have covered the news in Greater Cincinnati for 35 years. This has provided me with a broad and deep understanding of the issues, the personalities and the needs of this community. I understand the region’s history – its successes and failures; its politics; its goals and its people.', 0, 0]\n",
      "write line:  ['Jan.  2002-July 2009: Editorial Page Editor:  Responsible for supervising and producing the daily and Sunday editorial and opinion pages.  Convened and led the Editorial Board in discussions of issues on which The Enquirer chose to comment, formulating editorial positions in conjunction with the editor and publisher. Supervised the department staff and wrote editorials and commentary.  Significant accomplishments included:', 0, 0]\n",
      "write line:  ['EDUCATION/PROFESSIONAL TRAINING', 2, 2]\n",
      "write line:  ['Ohio University', 0, 2]\n",
      "write line:  ['Athens, Ohio', 0, 2]\n",
      "write line:  ['B.S. in Journalism, cum laude, 1974', 0, 2]\n"
     ]
    }
   ],
   "source": [
    "gui_annotate(training_data_dir_path, file_name, 'file_path', file_content)"
   ]
  },
  {
   "cell_type": "code",
   "execution_count": null,
   "metadata": {
    "collapsed": true
   },
   "outputs": [],
   "source": []
  }
 ],
 "metadata": {
  "kernelspec": {
   "display_name": "Python 3",
   "language": "python",
   "name": "python3"
  },
  "language_info": {
   "codemirror_mode": {
    "name": "ipython",
    "version": 3
   },
   "file_extension": ".py",
   "mimetype": "text/x-python",
   "name": "python",
   "nbconvert_exporter": "python",
   "pygments_lexer": "ipython3",
   "version": "3.6.3"
  }
 },
 "nbformat": 4,
 "nbformat_minor": 2
}
