{
 "cells": [
  {
   "cell_type": "code",
   "execution_count": 1,
   "metadata": {
    "collapsed": true
   },
   "outputs": [],
   "source": [
    "import os"
   ]
  },
  {
   "cell_type": "code",
   "execution_count": 17,
   "metadata": {
    "collapsed": true
   },
   "outputs": [],
   "source": [
    "# Read the resume sample from internal database\n",
    "resume_path = r\"C:\\Users\\yusuf\\YusufSwoopTalent\\TrainingDataset\\named_entity\\txt_resumes\\15600_RESUME_Wells_resume_plain.txt\"\n",
    "training_data_dir_path = r\"C:\\Users\\yusuf\\YusufSwoopTalent\\Keras practice\\Yusuf Practice\\Training_data\"\n",
    "\n",
    "file_name = '15600_RESUME_Wells_resume_plain.txt'"
   ]
  },
  {
   "cell_type": "code",
   "execution_count": 3,
   "metadata": {
    "collapsed": true
   },
   "outputs": [],
   "source": [
    "resume_raw_content = open(resume_path,\"r\", encoding='utf8').read()"
   ]
  },
  {
   "cell_type": "code",
   "execution_count": 4,
   "metadata": {
    "collapsed": true
   },
   "outputs": [],
   "source": [
    "file_content = []\n",
    "for line in resume_raw_content.split('\\n'):\n",
    "        line2 = line.strip()\n",
    "        if line2 != '':\n",
    "            file_content.append(line2)"
   ]
  },
  {
   "cell_type": "code",
   "execution_count": 16,
   "metadata": {
    "collapsed": true
   },
   "outputs": [],
   "source": [
    "# Define the two level labels as line_type and line_labels\n",
    "line_types = {0:'content', 1:'title', 2:'header'}\n",
    "line_labels = {0:'experience', 1:'skills', 2: 'education', 3:'personal', 4:'miscellaneous'}"
   ]
  },
  {
   "cell_type": "code",
   "execution_count": 7,
   "metadata": {
    "collapsed": true
   },
   "outputs": [],
   "source": [
    "#Create default labels for all the sentences.\n",
    "def guess_line_type(line):\n",
    "    return -1\n",
    "\n",
    "def guess_line_label(line):\n",
    "    return -1"
   ]
  },
  {
   "cell_type": "code",
   "execution_count": 8,
   "metadata": {
    "collapsed": true
   },
   "outputs": [],
   "source": [
    "table_content = [[line, guess_line_type(line), guess_line_label(line)] for line in file_content]"
   ]
  },
  {
   "cell_type": "code",
   "execution_count": 14,
   "metadata": {
    "collapsed": true
   },
   "outputs": [],
   "source": [
    "#Main function to call\n",
    "def command_line_annotate(training_data_dir_path, index, file_content):\n",
    "    with open(os.path.join(training_data_dir_path, str(index) + '.txt'), 'wt', encoding='utf8') as f:\n",
    "        for line_index, line in enumerate(file_content):\n",
    "            print('Line #' + str(line_index) + ': ', line)\n",
    "            data_type = input('Type for line #' + str(line_index) + ' (options: 0=content, 1=title, 2=header Q=Quit):')\n",
    "            if (str(data_type)=='Q'):\n",
    "                return\n",
    "            label = input('Label for line #' + str(line_index) +\n",
    "                          ' (options: 0=experience, 1=expertise, 2=education, 3=personal, 4=miscellaneous Q=Quit')\n",
    "            if (str(label)=='Q'):\n",
    "                return\n",
    "            data_type = int(data_type)\n",
    "            label = int(label)\n",
    "            f.write(line_types[data_type] + '\\t' + line_labels[label] + '\\t' + line)\n",
    "            f.write('\\n')"
   ]
  },
  {
   "cell_type": "code",
   "execution_count": 20,
   "metadata": {},
   "outputs": [
    {
     "name": "stdout",
     "output_type": "stream",
     "text": [
      "Line #0:  DAVID WELLS\n",
      "Type for line #0 (options: 0=content, 1=title, 2=header Q=Quit):1\n",
      "Label for line #0 (options: 0=experience, 1=expertise, 2=education, 3=personal, 4=miscellaneous Q=Quit1\n",
      "Line #1:  4779 Pewter Rd.\n",
      "Type for line #1 (options: 0=content, 1=title, 2=header Q=Quit):Q\n"
     ]
    }
   ],
   "source": [
    "# Call function\n",
    "command_line_annotate(training_data_dir_path, file_name, file_content) "
   ]
  },
  {
   "cell_type": "code",
   "execution_count": null,
   "metadata": {
    "collapsed": true
   },
   "outputs": [],
   "source": []
  },
  {
   "cell_type": "code",
   "execution_count": null,
   "metadata": {
    "collapsed": true
   },
   "outputs": [],
   "source": []
  }
 ],
 "metadata": {
  "kernelspec": {
   "display_name": "Python 3",
   "language": "python",
   "name": "python3"
  },
  "language_info": {
   "codemirror_mode": {
    "name": "ipython",
    "version": 3
   },
   "file_extension": ".py",
   "mimetype": "text/x-python",
   "name": "python",
   "nbconvert_exporter": "python",
   "pygments_lexer": "ipython3",
   "version": "3.6.3"
  }
 },
 "nbformat": 4,
 "nbformat_minor": 2
}
